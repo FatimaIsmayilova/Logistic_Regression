{
 "cells": [
  {
   "cell_type": "code",
   "execution_count": 14,
   "id": "23fe29eb",
   "metadata": {},
   "outputs": [],
   "source": [
    "import pandas as pd\n",
    "import numpy as np\n",
    "import matplotlib.pyplot as plt\n",
    "import plotly.express as px\n",
    "from random import randint"
   ]
  },
  {
   "cell_type": "code",
   "execution_count": 15,
   "id": "2767f5ca",
   "metadata": {},
   "outputs": [],
   "source": [
    "import os\n",
    "os.chdir('C:\\\\Users\\\\PC\\\\\\Downloads')\n",
    "df = pd.read_csv('cover.csv')"
   ]
  },
  {
   "cell_type": "code",
   "execution_count": 55,
   "id": "47ea9ec1",
   "metadata": {},
   "outputs": [
    {
     "data": {
      "text/html": [
       "<div>\n",
       "<style scoped>\n",
       "    .dataframe tbody tr th:only-of-type {\n",
       "        vertical-align: middle;\n",
       "    }\n",
       "\n",
       "    .dataframe tbody tr th {\n",
       "        vertical-align: top;\n",
       "    }\n",
       "\n",
       "    .dataframe thead th {\n",
       "        text-align: right;\n",
       "    }\n",
       "</style>\n",
       "<table border=\"1\" class=\"dataframe\">\n",
       "  <thead>\n",
       "    <tr style=\"text-align: right;\">\n",
       "      <th></th>\n",
       "      <th>Elevation</th>\n",
       "      <th>Aspect</th>\n",
       "      <th>Slope</th>\n",
       "      <th>Horizontal_Distance_To_Hydrology</th>\n",
       "      <th>Vertical_Distance_To_Hydrology</th>\n",
       "      <th>Horizontal_Distance_To_Roadways</th>\n",
       "      <th>Hillshade_9am</th>\n",
       "      <th>Hillshade_Noon</th>\n",
       "      <th>Hillshade_3pm</th>\n",
       "      <th>Horizontal_Distance_To_Fire_Points</th>\n",
       "      <th>...</th>\n",
       "      <th>Soil_Type_31</th>\n",
       "      <th>Soil_Type_32</th>\n",
       "      <th>Soil_Type_33</th>\n",
       "      <th>Soil_Type_34</th>\n",
       "      <th>Soil_Type_35</th>\n",
       "      <th>Soil_Type_36</th>\n",
       "      <th>Soil_Type_37</th>\n",
       "      <th>Soil_Type_38</th>\n",
       "      <th>Soil_Type_39</th>\n",
       "      <th>Cover_Type</th>\n",
       "    </tr>\n",
       "  </thead>\n",
       "  <tbody>\n",
       "    <tr>\n",
       "      <th>0</th>\n",
       "      <td>2596</td>\n",
       "      <td>51</td>\n",
       "      <td>3</td>\n",
       "      <td>258</td>\n",
       "      <td>0</td>\n",
       "      <td>510</td>\n",
       "      <td>221</td>\n",
       "      <td>232</td>\n",
       "      <td>148</td>\n",
       "      <td>6279</td>\n",
       "      <td>...</td>\n",
       "      <td>0</td>\n",
       "      <td>0</td>\n",
       "      <td>0</td>\n",
       "      <td>0</td>\n",
       "      <td>0</td>\n",
       "      <td>0</td>\n",
       "      <td>0</td>\n",
       "      <td>0</td>\n",
       "      <td>0</td>\n",
       "      <td>5</td>\n",
       "    </tr>\n",
       "    <tr>\n",
       "      <th>1</th>\n",
       "      <td>2590</td>\n",
       "      <td>56</td>\n",
       "      <td>2</td>\n",
       "      <td>212</td>\n",
       "      <td>-6</td>\n",
       "      <td>390</td>\n",
       "      <td>220</td>\n",
       "      <td>235</td>\n",
       "      <td>151</td>\n",
       "      <td>6225</td>\n",
       "      <td>...</td>\n",
       "      <td>0</td>\n",
       "      <td>0</td>\n",
       "      <td>0</td>\n",
       "      <td>0</td>\n",
       "      <td>0</td>\n",
       "      <td>0</td>\n",
       "      <td>0</td>\n",
       "      <td>0</td>\n",
       "      <td>0</td>\n",
       "      <td>5</td>\n",
       "    </tr>\n",
       "    <tr>\n",
       "      <th>2</th>\n",
       "      <td>2804</td>\n",
       "      <td>139</td>\n",
       "      <td>9</td>\n",
       "      <td>268</td>\n",
       "      <td>65</td>\n",
       "      <td>3180</td>\n",
       "      <td>234</td>\n",
       "      <td>238</td>\n",
       "      <td>135</td>\n",
       "      <td>6121</td>\n",
       "      <td>...</td>\n",
       "      <td>0</td>\n",
       "      <td>0</td>\n",
       "      <td>0</td>\n",
       "      <td>0</td>\n",
       "      <td>0</td>\n",
       "      <td>0</td>\n",
       "      <td>0</td>\n",
       "      <td>0</td>\n",
       "      <td>0</td>\n",
       "      <td>2</td>\n",
       "    </tr>\n",
       "    <tr>\n",
       "      <th>3</th>\n",
       "      <td>2785</td>\n",
       "      <td>155</td>\n",
       "      <td>18</td>\n",
       "      <td>242</td>\n",
       "      <td>118</td>\n",
       "      <td>3090</td>\n",
       "      <td>238</td>\n",
       "      <td>238</td>\n",
       "      <td>122</td>\n",
       "      <td>6211</td>\n",
       "      <td>...</td>\n",
       "      <td>0</td>\n",
       "      <td>0</td>\n",
       "      <td>0</td>\n",
       "      <td>0</td>\n",
       "      <td>0</td>\n",
       "      <td>0</td>\n",
       "      <td>0</td>\n",
       "      <td>0</td>\n",
       "      <td>0</td>\n",
       "      <td>2</td>\n",
       "    </tr>\n",
       "    <tr>\n",
       "      <th>4</th>\n",
       "      <td>2595</td>\n",
       "      <td>45</td>\n",
       "      <td>2</td>\n",
       "      <td>153</td>\n",
       "      <td>-1</td>\n",
       "      <td>391</td>\n",
       "      <td>220</td>\n",
       "      <td>234</td>\n",
       "      <td>150</td>\n",
       "      <td>6172</td>\n",
       "      <td>...</td>\n",
       "      <td>0</td>\n",
       "      <td>0</td>\n",
       "      <td>0</td>\n",
       "      <td>0</td>\n",
       "      <td>0</td>\n",
       "      <td>0</td>\n",
       "      <td>0</td>\n",
       "      <td>0</td>\n",
       "      <td>0</td>\n",
       "      <td>5</td>\n",
       "    </tr>\n",
       "  </tbody>\n",
       "</table>\n",
       "<p>5 rows × 55 columns</p>\n",
       "</div>"
      ],
      "text/plain": [
       "   Elevation  Aspect  Slope  Horizontal_Distance_To_Hydrology  \\\n",
       "0       2596      51      3                               258   \n",
       "1       2590      56      2                               212   \n",
       "2       2804     139      9                               268   \n",
       "3       2785     155     18                               242   \n",
       "4       2595      45      2                               153   \n",
       "\n",
       "   Vertical_Distance_To_Hydrology  Horizontal_Distance_To_Roadways  \\\n",
       "0                               0                              510   \n",
       "1                              -6                              390   \n",
       "2                              65                             3180   \n",
       "3                             118                             3090   \n",
       "4                              -1                              391   \n",
       "\n",
       "   Hillshade_9am  Hillshade_Noon  Hillshade_3pm  \\\n",
       "0            221             232            148   \n",
       "1            220             235            151   \n",
       "2            234             238            135   \n",
       "3            238             238            122   \n",
       "4            220             234            150   \n",
       "\n",
       "   Horizontal_Distance_To_Fire_Points  ...  Soil_Type_31  Soil_Type_32  \\\n",
       "0                                6279  ...             0             0   \n",
       "1                                6225  ...             0             0   \n",
       "2                                6121  ...             0             0   \n",
       "3                                6211  ...             0             0   \n",
       "4                                6172  ...             0             0   \n",
       "\n",
       "   Soil_Type_33  Soil_Type_34  Soil_Type_35  Soil_Type_36  Soil_Type_37  \\\n",
       "0             0             0             0             0             0   \n",
       "1             0             0             0             0             0   \n",
       "2             0             0             0             0             0   \n",
       "3             0             0             0             0             0   \n",
       "4             0             0             0             0             0   \n",
       "\n",
       "   Soil_Type_38  Soil_Type_39  Cover_Type  \n",
       "0             0             0           5  \n",
       "1             0             0           5  \n",
       "2             0             0           2  \n",
       "3             0             0           2  \n",
       "4             0             0           5  \n",
       "\n",
       "[5 rows x 55 columns]"
      ]
     },
     "execution_count": 55,
     "metadata": {},
     "output_type": "execute_result"
    }
   ],
   "source": [
    "df.head()"
   ]
  },
  {
   "cell_type": "code",
   "execution_count": 16,
   "id": "5330c38f",
   "metadata": {},
   "outputs": [
    {
     "data": {
      "text/plain": [
       "array([5, 2, 1, 7, 3, 6, 4], dtype=int64)"
      ]
     },
     "execution_count": 16,
     "metadata": {},
     "output_type": "execute_result"
    }
   ],
   "source": [
    "df.Cover_Type.unique()"
   ]
  },
  {
   "cell_type": "code",
   "execution_count": 17,
   "id": "30e2d9ae",
   "metadata": {},
   "outputs": [
    {
     "data": {
      "text/plain": [
       "0    579415\n",
       "1      1597\n",
       "Name: Soil_Type_4, dtype: int64"
      ]
     },
     "execution_count": 17,
     "metadata": {},
     "output_type": "execute_result"
    }
   ],
   "source": [
    "df.Soil_Type_4.value_counts()"
   ]
  },
  {
   "cell_type": "code",
   "execution_count": 18,
   "id": "8c67b282",
   "metadata": {},
   "outputs": [],
   "source": [
    "data = df.copy()"
   ]
  },
  {
   "cell_type": "code",
   "execution_count": 19,
   "id": "9eba8a59",
   "metadata": {},
   "outputs": [],
   "source": [
    "data = data[data.Cover_Type.isin([1, 2])]\n",
    "data = data.reset_index()\n",
    "data.drop('index', axis = 1, inplace=True)\n"
   ]
  },
  {
   "cell_type": "code",
   "execution_count": 20,
   "id": "fbd6d111",
   "metadata": {},
   "outputs": [
    {
     "data": {
      "text/plain": [
       "0    495141\n",
       "Name: Soil_Type_4, dtype: int64"
      ]
     },
     "execution_count": 20,
     "metadata": {},
     "output_type": "execute_result"
    }
   ],
   "source": [
    "data.Soil_Type_4.value_counts()"
   ]
  },
  {
   "cell_type": "code",
   "execution_count": 21,
   "id": "89c7c10d",
   "metadata": {},
   "outputs": [
    {
     "data": {
      "text/plain": [
       "495141"
      ]
     },
     "execution_count": 21,
     "metadata": {},
     "output_type": "execute_result"
    }
   ],
   "source": [
    "len(data)"
   ]
  },
  {
   "cell_type": "code",
   "execution_count": 22,
   "id": "6a8fec6a",
   "metadata": {},
   "outputs": [],
   "source": [
    "def LogisticMaker(data):\n",
    "    if data==1:\n",
    "        data=0\n",
    "    elif data==2:\n",
    "        data=1\n",
    "    \n",
    "    \n",
    "    return data\n",
    "\n"
   ]
  },
  {
   "cell_type": "code",
   "execution_count": 23,
   "id": "af80a43a",
   "metadata": {},
   "outputs": [],
   "source": [
    "data.Cover_Type = data.Cover_Type.apply(LogisticMaker)"
   ]
  },
  {
   "cell_type": "code",
   "execution_count": 24,
   "id": "71fbab50",
   "metadata": {},
   "outputs": [
    {
     "data": {
      "text/plain": [
       "1    283301\n",
       "0    211840\n",
       "Name: Cover_Type, dtype: int64"
      ]
     },
     "execution_count": 24,
     "metadata": {},
     "output_type": "execute_result"
    }
   ],
   "source": [
    "data.Cover_Type.value_counts()"
   ]
  },
  {
   "cell_type": "code",
   "execution_count": 25,
   "id": "a7441cff",
   "metadata": {},
   "outputs": [
    {
     "data": {
      "text/html": [
       "<div>\n",
       "<style scoped>\n",
       "    .dataframe tbody tr th:only-of-type {\n",
       "        vertical-align: middle;\n",
       "    }\n",
       "\n",
       "    .dataframe tbody tr th {\n",
       "        vertical-align: top;\n",
       "    }\n",
       "\n",
       "    .dataframe thead th {\n",
       "        text-align: right;\n",
       "    }\n",
       "</style>\n",
       "<table border=\"1\" class=\"dataframe\">\n",
       "  <thead>\n",
       "    <tr style=\"text-align: right;\">\n",
       "      <th></th>\n",
       "      <th>Elevation</th>\n",
       "      <th>Aspect</th>\n",
       "      <th>Slope</th>\n",
       "      <th>Horizontal_Distance_To_Hydrology</th>\n",
       "      <th>Vertical_Distance_To_Hydrology</th>\n",
       "      <th>Horizontal_Distance_To_Roadways</th>\n",
       "      <th>Hillshade_9am</th>\n",
       "      <th>Hillshade_Noon</th>\n",
       "      <th>Hillshade_3pm</th>\n",
       "      <th>Horizontal_Distance_To_Fire_Points</th>\n",
       "      <th>...</th>\n",
       "      <th>Soil_Type_31</th>\n",
       "      <th>Soil_Type_32</th>\n",
       "      <th>Soil_Type_33</th>\n",
       "      <th>Soil_Type_34</th>\n",
       "      <th>Soil_Type_35</th>\n",
       "      <th>Soil_Type_36</th>\n",
       "      <th>Soil_Type_37</th>\n",
       "      <th>Soil_Type_38</th>\n",
       "      <th>Soil_Type_39</th>\n",
       "      <th>Cover_Type</th>\n",
       "    </tr>\n",
       "  </thead>\n",
       "  <tbody>\n",
       "    <tr>\n",
       "      <th>0</th>\n",
       "      <td>-0.133291</td>\n",
       "      <td>-0.041125</td>\n",
       "      <td>-0.066202</td>\n",
       "      <td>-0.005663</td>\n",
       "      <td>0.026758</td>\n",
       "      <td>0.094308</td>\n",
       "      <td>0.082461</td>\n",
       "      <td>0.053090</td>\n",
       "      <td>-0.032933</td>\n",
       "      <td>0.560551</td>\n",
       "      <td>...</td>\n",
       "      <td>0</td>\n",
       "      <td>0</td>\n",
       "      <td>0</td>\n",
       "      <td>0</td>\n",
       "      <td>0</td>\n",
       "      <td>0</td>\n",
       "      <td>0</td>\n",
       "      <td>0</td>\n",
       "      <td>0</td>\n",
       "      <td>1</td>\n",
       "    </tr>\n",
       "    <tr>\n",
       "      <th>1</th>\n",
       "      <td>-0.145597</td>\n",
       "      <td>0.003319</td>\n",
       "      <td>0.070161</td>\n",
       "      <td>-0.024274</td>\n",
       "      <td>0.095233</td>\n",
       "      <td>0.081662</td>\n",
       "      <td>0.098209</td>\n",
       "      <td>0.053090</td>\n",
       "      <td>-0.084114</td>\n",
       "      <td>0.573098</td>\n",
       "      <td>...</td>\n",
       "      <td>0</td>\n",
       "      <td>0</td>\n",
       "      <td>0</td>\n",
       "      <td>0</td>\n",
       "      <td>0</td>\n",
       "      <td>0</td>\n",
       "      <td>0</td>\n",
       "      <td>0</td>\n",
       "      <td>0</td>\n",
       "      <td>1</td>\n",
       "    </tr>\n",
       "    <tr>\n",
       "      <th>2</th>\n",
       "      <td>-0.279017</td>\n",
       "      <td>-0.060570</td>\n",
       "      <td>-0.111657</td>\n",
       "      <td>0.017243</td>\n",
       "      <td>-0.076601</td>\n",
       "      <td>-0.343096</td>\n",
       "      <td>0.066713</td>\n",
       "      <td>0.049153</td>\n",
       "      <td>-0.013248</td>\n",
       "      <td>0.548004</td>\n",
       "      <td>...</td>\n",
       "      <td>0</td>\n",
       "      <td>0</td>\n",
       "      <td>0</td>\n",
       "      <td>0</td>\n",
       "      <td>0</td>\n",
       "      <td>0</td>\n",
       "      <td>0</td>\n",
       "      <td>0</td>\n",
       "      <td>0</td>\n",
       "      <td>1</td>\n",
       "    </tr>\n",
       "    <tr>\n",
       "      <th>3</th>\n",
       "      <td>-0.080182</td>\n",
       "      <td>-0.007792</td>\n",
       "      <td>-0.035899</td>\n",
       "      <td>0.068066</td>\n",
       "      <td>-0.023630</td>\n",
       "      <td>0.385582</td>\n",
       "      <td>0.082461</td>\n",
       "      <td>0.060964</td>\n",
       "      <td>-0.028996</td>\n",
       "      <td>0.271968</td>\n",
       "      <td>...</td>\n",
       "      <td>0</td>\n",
       "      <td>0</td>\n",
       "      <td>0</td>\n",
       "      <td>0</td>\n",
       "      <td>0</td>\n",
       "      <td>0</td>\n",
       "      <td>0</td>\n",
       "      <td>0</td>\n",
       "      <td>0</td>\n",
       "      <td>1</td>\n",
       "    </tr>\n",
       "    <tr>\n",
       "      <th>4</th>\n",
       "      <td>-0.173447</td>\n",
       "      <td>-0.055014</td>\n",
       "      <td>0.130767</td>\n",
       "      <td>-0.090130</td>\n",
       "      <td>0.031926</td>\n",
       "      <td>0.099226</td>\n",
       "      <td>0.137580</td>\n",
       "      <td>-0.002029</td>\n",
       "      <td>-0.202224</td>\n",
       "      <td>0.556368</td>\n",
       "      <td>...</td>\n",
       "      <td>0</td>\n",
       "      <td>0</td>\n",
       "      <td>0</td>\n",
       "      <td>0</td>\n",
       "      <td>0</td>\n",
       "      <td>0</td>\n",
       "      <td>0</td>\n",
       "      <td>0</td>\n",
       "      <td>0</td>\n",
       "      <td>1</td>\n",
       "    </tr>\n",
       "    <tr>\n",
       "      <th>...</th>\n",
       "      <td>...</td>\n",
       "      <td>...</td>\n",
       "      <td>...</td>\n",
       "      <td>...</td>\n",
       "      <td>...</td>\n",
       "      <td>...</td>\n",
       "      <td>...</td>\n",
       "      <td>...</td>\n",
       "      <td>...</td>\n",
       "      <td>...</td>\n",
       "      <td>...</td>\n",
       "      <td>...</td>\n",
       "      <td>...</td>\n",
       "      <td>...</td>\n",
       "      <td>...</td>\n",
       "      <td>...</td>\n",
       "      <td>...</td>\n",
       "      <td>...</td>\n",
       "      <td>...</td>\n",
       "      <td>...</td>\n",
       "      <td>...</td>\n",
       "    </tr>\n",
       "    <tr>\n",
       "      <th>495136</th>\n",
       "      <td>-0.254405</td>\n",
       "      <td>-0.346681</td>\n",
       "      <td>-0.005596</td>\n",
       "      <td>0.081667</td>\n",
       "      <td>0.108153</td>\n",
       "      <td>-0.060111</td>\n",
       "      <td>0.007658</td>\n",
       "      <td>-0.053210</td>\n",
       "      <td>-0.052618</td>\n",
       "      <td>-0.210257</td>\n",
       "      <td>...</td>\n",
       "      <td>0</td>\n",
       "      <td>0</td>\n",
       "      <td>0</td>\n",
       "      <td>0</td>\n",
       "      <td>0</td>\n",
       "      <td>0</td>\n",
       "      <td>0</td>\n",
       "      <td>0</td>\n",
       "      <td>0</td>\n",
       "      <td>1</td>\n",
       "    </tr>\n",
       "    <tr>\n",
       "      <th>495137</th>\n",
       "      <td>-0.256348</td>\n",
       "      <td>-0.368903</td>\n",
       "      <td>-0.005596</td>\n",
       "      <td>0.073793</td>\n",
       "      <td>0.104277</td>\n",
       "      <td>-0.064326</td>\n",
       "      <td>-0.008090</td>\n",
       "      <td>-0.049273</td>\n",
       "      <td>-0.032933</td>\n",
       "      <td>-0.206632</td>\n",
       "      <td>...</td>\n",
       "      <td>0</td>\n",
       "      <td>0</td>\n",
       "      <td>0</td>\n",
       "      <td>0</td>\n",
       "      <td>0</td>\n",
       "      <td>0</td>\n",
       "      <td>0</td>\n",
       "      <td>0</td>\n",
       "      <td>0</td>\n",
       "      <td>1</td>\n",
       "    </tr>\n",
       "    <tr>\n",
       "      <th>495138</th>\n",
       "      <td>-0.257644</td>\n",
       "      <td>-0.380014</td>\n",
       "      <td>-0.005596</td>\n",
       "      <td>0.068066</td>\n",
       "      <td>0.101693</td>\n",
       "      <td>-0.068542</td>\n",
       "      <td>-0.019901</td>\n",
       "      <td>-0.053210</td>\n",
       "      <td>-0.021122</td>\n",
       "      <td>-0.203007</td>\n",
       "      <td>...</td>\n",
       "      <td>0</td>\n",
       "      <td>0</td>\n",
       "      <td>0</td>\n",
       "      <td>0</td>\n",
       "      <td>0</td>\n",
       "      <td>0</td>\n",
       "      <td>0</td>\n",
       "      <td>0</td>\n",
       "      <td>0</td>\n",
       "      <td>1</td>\n",
       "    </tr>\n",
       "    <tr>\n",
       "      <th>495139</th>\n",
       "      <td>-0.258939</td>\n",
       "      <td>-0.382792</td>\n",
       "      <td>0.009555</td>\n",
       "      <td>0.063771</td>\n",
       "      <td>0.084897</td>\n",
       "      <td>-0.072757</td>\n",
       "      <td>-0.019901</td>\n",
       "      <td>-0.053210</td>\n",
       "      <td>-0.021122</td>\n",
       "      <td>-0.199243</td>\n",
       "      <td>...</td>\n",
       "      <td>0</td>\n",
       "      <td>0</td>\n",
       "      <td>0</td>\n",
       "      <td>0</td>\n",
       "      <td>0</td>\n",
       "      <td>0</td>\n",
       "      <td>0</td>\n",
       "      <td>0</td>\n",
       "      <td>0</td>\n",
       "      <td>1</td>\n",
       "    </tr>\n",
       "    <tr>\n",
       "      <th>495140</th>\n",
       "      <td>-0.260234</td>\n",
       "      <td>-0.363348</td>\n",
       "      <td>0.009555</td>\n",
       "      <td>0.060908</td>\n",
       "      <td>0.082313</td>\n",
       "      <td>-0.076972</td>\n",
       "      <td>-0.008090</td>\n",
       "      <td>-0.061084</td>\n",
       "      <td>-0.048681</td>\n",
       "      <td>-0.195479</td>\n",
       "      <td>...</td>\n",
       "      <td>0</td>\n",
       "      <td>0</td>\n",
       "      <td>0</td>\n",
       "      <td>0</td>\n",
       "      <td>0</td>\n",
       "      <td>0</td>\n",
       "      <td>0</td>\n",
       "      <td>0</td>\n",
       "      <td>0</td>\n",
       "      <td>1</td>\n",
       "    </tr>\n",
       "  </tbody>\n",
       "</table>\n",
       "<p>495141 rows × 55 columns</p>\n",
       "</div>"
      ],
      "text/plain": [
       "        Elevation    Aspect     Slope  Horizontal_Distance_To_Hydrology  \\\n",
       "0       -0.133291 -0.041125 -0.066202                         -0.005663   \n",
       "1       -0.145597  0.003319  0.070161                         -0.024274   \n",
       "2       -0.279017 -0.060570 -0.111657                          0.017243   \n",
       "3       -0.080182 -0.007792 -0.035899                          0.068066   \n",
       "4       -0.173447 -0.055014  0.130767                         -0.090130   \n",
       "...           ...       ...       ...                               ...   \n",
       "495136  -0.254405 -0.346681 -0.005596                          0.081667   \n",
       "495137  -0.256348 -0.368903 -0.005596                          0.073793   \n",
       "495138  -0.257644 -0.380014 -0.005596                          0.068066   \n",
       "495139  -0.258939 -0.382792  0.009555                          0.063771   \n",
       "495140  -0.260234 -0.363348  0.009555                          0.060908   \n",
       "\n",
       "        Vertical_Distance_To_Hydrology  Horizontal_Distance_To_Roadways  \\\n",
       "0                             0.026758                         0.094308   \n",
       "1                             0.095233                         0.081662   \n",
       "2                            -0.076601                        -0.343096   \n",
       "3                            -0.023630                         0.385582   \n",
       "4                             0.031926                         0.099226   \n",
       "...                                ...                              ...   \n",
       "495136                        0.108153                        -0.060111   \n",
       "495137                        0.104277                        -0.064326   \n",
       "495138                        0.101693                        -0.068542   \n",
       "495139                        0.084897                        -0.072757   \n",
       "495140                        0.082313                        -0.076972   \n",
       "\n",
       "        Hillshade_9am  Hillshade_Noon  Hillshade_3pm  \\\n",
       "0            0.082461        0.053090      -0.032933   \n",
       "1            0.098209        0.053090      -0.084114   \n",
       "2            0.066713        0.049153      -0.013248   \n",
       "3            0.082461        0.060964      -0.028996   \n",
       "4            0.137580       -0.002029      -0.202224   \n",
       "...               ...             ...            ...   \n",
       "495136       0.007658       -0.053210      -0.052618   \n",
       "495137      -0.008090       -0.049273      -0.032933   \n",
       "495138      -0.019901       -0.053210      -0.021122   \n",
       "495139      -0.019901       -0.053210      -0.021122   \n",
       "495140      -0.008090       -0.061084      -0.048681   \n",
       "\n",
       "        Horizontal_Distance_To_Fire_Points  ...  Soil_Type_31  Soil_Type_32  \\\n",
       "0                                 0.560551  ...             0             0   \n",
       "1                                 0.573098  ...             0             0   \n",
       "2                                 0.548004  ...             0             0   \n",
       "3                                 0.271968  ...             0             0   \n",
       "4                                 0.556368  ...             0             0   \n",
       "...                                    ...  ...           ...           ...   \n",
       "495136                           -0.210257  ...             0             0   \n",
       "495137                           -0.206632  ...             0             0   \n",
       "495138                           -0.203007  ...             0             0   \n",
       "495139                           -0.199243  ...             0             0   \n",
       "495140                           -0.195479  ...             0             0   \n",
       "\n",
       "        Soil_Type_33  Soil_Type_34  Soil_Type_35  Soil_Type_36  Soil_Type_37  \\\n",
       "0                  0             0             0             0             0   \n",
       "1                  0             0             0             0             0   \n",
       "2                  0             0             0             0             0   \n",
       "3                  0             0             0             0             0   \n",
       "4                  0             0             0             0             0   \n",
       "...              ...           ...           ...           ...           ...   \n",
       "495136             0             0             0             0             0   \n",
       "495137             0             0             0             0             0   \n",
       "495138             0             0             0             0             0   \n",
       "495139             0             0             0             0             0   \n",
       "495140             0             0             0             0             0   \n",
       "\n",
       "        Soil_Type_38  Soil_Type_39  Cover_Type  \n",
       "0                  0             0           1  \n",
       "1                  0             0           1  \n",
       "2                  0             0           1  \n",
       "3                  0             0           1  \n",
       "4                  0             0           1  \n",
       "...              ...           ...         ...  \n",
       "495136             0             0           1  \n",
       "495137             0             0           1  \n",
       "495138             0             0           1  \n",
       "495139             0             0           1  \n",
       "495140             0             0           1  \n",
       "\n",
       "[495141 rows x 55 columns]"
      ]
     },
     "execution_count": 25,
     "metadata": {},
     "output_type": "execute_result"
    }
   ],
   "source": [
    "def DataNormalizer(data, columns):\n",
    "    for column in columns:\n",
    "        mini = data[column].min()\n",
    "        maxi = data[column].max()\n",
    "        ave = data[column].mean()\n",
    "        if len(data[column].unique()) > 2:\n",
    "            data[column] = (data[column]-ave)/(maxi-mini)\n",
    "        \n",
    "\n",
    "    return data\n",
    "\n",
    "\n",
    "DataNormalizer(data, data.loc[:, data.columns != 'Cover_Type'])\n"
   ]
  },
  {
   "cell_type": "code",
   "execution_count": 26,
   "id": "d1e42878",
   "metadata": {},
   "outputs": [
    {
     "data": {
      "text/plain": [
       "array([0], dtype=int64)"
      ]
     },
     "execution_count": 26,
     "metadata": {},
     "output_type": "execute_result"
    }
   ],
   "source": [
    "data.Soil_Type_4.unique()"
   ]
  },
  {
   "cell_type": "code",
   "execution_count": 27,
   "id": "490ba7d8",
   "metadata": {},
   "outputs": [
    {
     "data": {
      "text/plain": [
       "1    283301\n",
       "0    211840\n",
       "Name: Cover_Type, dtype: int64"
      ]
     },
     "execution_count": 27,
     "metadata": {},
     "output_type": "execute_result"
    }
   ],
   "source": [
    "data.Cover_Type.value_counts()"
   ]
  },
  {
   "cell_type": "code",
   "execution_count": 28,
   "id": "3ef65f2f",
   "metadata": {},
   "outputs": [],
   "source": [
    "x0 = [1]*(len(data))\n",
    "y = data['Cover_Type']\n",
    "\n",
    "X = data[data.columns[:-1]].values\n"
   ]
  },
  {
   "cell_type": "code",
   "execution_count": 29,
   "id": "b1d3d13a",
   "metadata": {},
   "outputs": [],
   "source": [
    "X = np.insert(X, 0, 1, axis=1)"
   ]
  },
  {
   "cell_type": "code",
   "execution_count": 30,
   "id": "89e8720f",
   "metadata": {},
   "outputs": [
    {
     "data": {
      "text/plain": [
       "(495141, 55)"
      ]
     },
     "execution_count": 30,
     "metadata": {},
     "output_type": "execute_result"
    }
   ],
   "source": [
    "X.shape"
   ]
  },
  {
   "cell_type": "code",
   "execution_count": 31,
   "id": "9fdc07d8",
   "metadata": {},
   "outputs": [],
   "source": [
    "numbers = []\n",
    "for i in range(len(data.columns)):\n",
    "    numbers.append(randint(1, 10))\n",
    "W = np.array(numbers)"
   ]
  },
  {
   "cell_type": "code",
   "execution_count": 32,
   "id": "b676eca7",
   "metadata": {},
   "outputs": [
    {
     "data": {
      "text/plain": [
       "array([10,  5, 10,  8,  9,  9,  4,  6,  9,  9,  8,  6, 10,  6,  5,  8, 10,\n",
       "        7,  1,  4,  4, 10,  8,  3,  6, 10, 10,  8,  1,  4,  8,  5,  9,  4,\n",
       "        5,  7,  6,  9,  7, 10,  9,  3,  7,  6,  7,  1,  6,  6, 10,  8,  1,\n",
       "        4,  9,  6,  6])"
      ]
     },
     "execution_count": 32,
     "metadata": {},
     "output_type": "execute_result"
    }
   ],
   "source": [
    "W"
   ]
  },
  {
   "cell_type": "code",
   "execution_count": 33,
   "id": "efd3d867",
   "metadata": {},
   "outputs": [
    {
     "data": {
      "text/plain": [
       "array([[ 1.        , -0.13329128, -0.04112532, ...,  0.        ,\n",
       "         0.        ,  0.        ],\n",
       "       [ 1.        , -0.14559698,  0.00331913, ...,  0.        ,\n",
       "         0.        ,  0.        ],\n",
       "       [ 1.        , -0.27901667, -0.06056976, ...,  0.        ,\n",
       "         0.        ,  0.        ],\n",
       "       ...,\n",
       "       [ 1.        , -0.25764361, -0.38001421, ...,  0.        ,\n",
       "         0.        ,  0.        ],\n",
       "       [ 1.        , -0.25893895, -0.38279198, ...,  0.        ,\n",
       "         0.        ,  0.        ],\n",
       "       [ 1.        , -0.26023428, -0.36334754, ...,  0.        ,\n",
       "         0.        ,  0.        ]])"
      ]
     },
     "execution_count": 33,
     "metadata": {},
     "output_type": "execute_result"
    }
   ],
   "source": [
    "X"
   ]
  },
  {
   "cell_type": "code",
   "execution_count": 34,
   "id": "4e019a44",
   "metadata": {},
   "outputs": [
    {
     "data": {
      "text/plain": [
       "495141"
      ]
     },
     "execution_count": 34,
     "metadata": {},
     "output_type": "execute_result"
    }
   ],
   "source": [
    "len(X)"
   ]
  },
  {
   "cell_type": "code",
   "execution_count": 35,
   "id": "4e9e4d3d",
   "metadata": {},
   "outputs": [
    {
     "data": {
      "text/plain": [
       "0         1\n",
       "1         1\n",
       "2         1\n",
       "3         1\n",
       "4         1\n",
       "         ..\n",
       "495136    1\n",
       "495137    1\n",
       "495138    1\n",
       "495139    1\n",
       "495140    1\n",
       "Name: Cover_Type, Length: 495141, dtype: int64"
      ]
     },
     "execution_count": 35,
     "metadata": {},
     "output_type": "execute_result"
    }
   ],
   "source": [
    "y"
   ]
  },
  {
   "cell_type": "code",
   "execution_count": 36,
   "id": "d099f322",
   "metadata": {},
   "outputs": [],
   "source": [
    "def costFunction(y, h):\n",
    "    return (-y * np.log(h) - (1-y)*np.log(1-h)).mean()\n",
    "    "
   ]
  },
  {
   "cell_type": "code",
   "execution_count": 37,
   "id": "4f993e9b",
   "metadata": {},
   "outputs": [],
   "source": [
    "def sigmaoid(z):\n",
    "    res = 1.0/(1+np.exp(-z))\n",
    "    \n",
    "    return res"
   ]
  },
  {
   "cell_type": "code",
   "execution_count": 38,
   "id": "1a26c066",
   "metadata": {},
   "outputs": [],
   "source": [
    "def probabilityOfAdmitted(X, W):\n",
    "    val = np.dot(X, W)\n",
    "    p = sigmaoid(val)\n",
    "    \n",
    "    return p"
   ]
  },
  {
   "cell_type": "code",
   "execution_count": 39,
   "id": "5cc258d9",
   "metadata": {},
   "outputs": [],
   "source": [
    "def predict(X, W):\n",
    "    p = probabilityOfAdmitted(X, W)\n",
    "    \n",
    "    p [p>=0.5] = 1\n",
    "    p [p<0.5] = 0\n",
    "    \n",
    "    return p"
   ]
  },
  {
   "cell_type": "code",
   "execution_count": 40,
   "id": "6d023886",
   "metadata": {},
   "outputs": [
    {
     "data": {
      "text/plain": [
       "(55,)"
      ]
     },
     "execution_count": 40,
     "metadata": {},
     "output_type": "execute_result"
    }
   ],
   "source": [
    "W.shape"
   ]
  },
  {
   "cell_type": "code",
   "execution_count": 41,
   "id": "40e6df41",
   "metadata": {},
   "outputs": [],
   "source": [
    "def gradientDescent(X, y, W, alpha = 0.01, iterations = 40000):\n",
    "    costH = []\n",
    "    \n",
    "    for i in range(iterations+1):\n",
    "        x = np.dot(X, W)\n",
    "        h = sigmaoid(x)\n",
    "       \n",
    "        g = np.dot(X.T, (h-y))/len(y)\n",
    "        W = W - alpha*g\n",
    "        \n",
    "            \n",
    "        cost = costFunction(y, h)\n",
    "        costH.append(cost)\n",
    "        \n",
    "        if i%1000==0:\n",
    "            print(f'Iteration: {i}')\n",
    "            print(cost) \n",
    "        \n",
    "        \n",
    "    return W, costH"
   ]
  },
  {
   "cell_type": "code",
   "execution_count": 42,
   "id": "4696ac24",
   "metadata": {
    "scrolled": false
   },
   "outputs": [
    {
     "name": "stderr",
     "output_type": "stream",
     "text": [
      "C:\\Users\\PC\\AppData\\Local\\Temp\\ipykernel_3772\\3494969971.py:2: RuntimeWarning: divide by zero encountered in log\n",
      "  return (-y * np.log(h) - (1-y)*np.log(1-h)).mean()\n"
     ]
    },
    {
     "name": "stdout",
     "output_type": "stream",
     "text": [
      "Iteration: 0\n",
      "inf\n",
      "Iteration: 1000\n",
      "7.063969943374853\n",
      "Iteration: 2000\n",
      "4.372545124175045\n",
      "Iteration: 3000\n",
      "2.8306973431433815\n",
      "Iteration: 4000\n",
      "2.3654251071304935\n",
      "Iteration: 5000\n",
      "2.1420577368020526\n",
      "Iteration: 6000\n",
      "1.969817871989043\n",
      "Iteration: 7000\n",
      "1.8189627551536869\n",
      "Iteration: 8000\n",
      "1.6840486865879576\n",
      "Iteration: 9000\n",
      "1.5631837923647816\n",
      "Iteration: 10000\n",
      "1.4550137867629136\n",
      "Iteration: 11000\n",
      "1.358307623546191\n",
      "Iteration: 12000\n",
      "1.2719194267034588\n",
      "Iteration: 13000\n",
      "1.1948121531732179\n",
      "Iteration: 14000\n",
      "1.1260780598065194\n",
      "Iteration: 15000\n",
      "1.0649324589020057\n",
      "Iteration: 16000\n",
      "1.010681626725378\n",
      "Iteration: 17000\n",
      "0.9626801903154202\n",
      "Iteration: 18000\n",
      "0.9202965122560203\n",
      "Iteration: 19000\n",
      "0.8829002516863094\n",
      "Iteration: 20000\n",
      "0.8498736625234061\n",
      "Iteration: 21000\n",
      "0.8206346734078536\n",
      "Iteration: 22000\n",
      "0.7946573937673993\n",
      "Iteration: 23000\n",
      "0.7714828125156729\n",
      "Iteration: 24000\n",
      "0.7507198305988684\n",
      "Iteration: 25000\n",
      "0.7320399783432171\n",
      "Iteration: 26000\n",
      "0.7151691994653974\n",
      "Iteration: 27000\n",
      "0.699879003337706\n",
      "Iteration: 28000\n",
      "0.6859782325251054\n",
      "Iteration: 29000\n",
      "0.673305972322498\n",
      "Iteration: 30000\n",
      "0.6617257146362797\n",
      "Iteration: 31000\n",
      "0.6511206827531685\n",
      "Iteration: 32000\n",
      "0.6413901425145945\n",
      "Iteration: 33000\n",
      "0.6324465113702863\n",
      "Iteration: 34000\n",
      "0.6242130939740106\n",
      "Iteration: 35000\n",
      "0.6166223013587587\n",
      "Iteration: 36000\n",
      "0.6096142401701966\n",
      "Iteration: 37000\n",
      "0.6031355845227503\n",
      "Iteration: 38000\n",
      "0.5971386643413166\n",
      "Iteration: 39000\n",
      "0.5915807205895864\n",
      "Iteration: 40000\n",
      "0.5864232902273486\n"
     ]
    }
   ],
   "source": [
    "W2, cost = gradientDescent(X, y, W)"
   ]
  },
  {
   "cell_type": "code",
   "execution_count": 44,
   "id": "eec14cb4",
   "metadata": {},
   "outputs": [
    {
     "data": {
      "text/plain": [
       "[<matplotlib.lines.Line2D at 0x2099d30e910>]"
      ]
     },
     "execution_count": 44,
     "metadata": {},
     "output_type": "execute_result"
    },
    {
     "data": {
      "image/png": "[encoded data removed]",
      "text/plain": [
       "<Figure size 432x288 with 1 Axes>"
      ]
     },
     "metadata": {
      "needs_background": "light"
     },
     "output_type": "display_data"
    }
   ],
   "source": [
    "plt.plot(cost)"
   ]
  },
  {
   "cell_type": "code",
   "execution_count": 45,
   "id": "ce4d6b4f",
   "metadata": {},
   "outputs": [],
   "source": [
    "test_X = data[2429:2430][data.columns[:-1]].values"
   ]
  },
  {
   "cell_type": "code",
   "execution_count": 46,
   "id": "04246ff4",
   "metadata": {},
   "outputs": [],
   "source": [
    "test_X = np.insert(test_X, 0, 1, axis=1)"
   ]
  },
  {
   "cell_type": "code",
   "execution_count": 47,
   "id": "9908e4d7",
   "metadata": {},
   "outputs": [
    {
     "data": {
      "text/plain": [
       "array([10,  5, 10,  8,  9,  9,  4,  6,  9,  9,  8,  6, 10,  6,  5,  8, 10,\n",
       "        7,  1,  4,  4, 10,  8,  3,  6, 10, 10,  8,  1,  4,  8,  5,  9,  4,\n",
       "        5,  7,  6,  9,  7, 10,  9,  3,  7,  6,  7,  1,  6,  6, 10,  8,  1,\n",
       "        4,  9,  6,  6])"
      ]
     },
     "execution_count": 47,
     "metadata": {},
     "output_type": "execute_result"
    }
   ],
   "source": [
    "W"
   ]
  },
  {
   "cell_type": "code",
   "execution_count": 48,
   "id": "03e6b9cf",
   "metadata": {},
   "outputs": [
    {
     "data": {
      "text/plain": [
       "array([[ 1.        , -0.07500112, -0.22445865,  0.13076731, -0.10659368,\n",
       "        -0.05980562, -0.12067033,  0.1021465 , -0.1280128 , -0.28096423,\n",
       "        -0.11991787,  0.        ,  0.        ,  1.        ,  0.        ,\n",
       "         0.        ,  0.        ,  0.        ,  0.        ,  0.        ,\n",
       "         0.        ,  0.        ,  0.        ,  0.        ,  0.        ,\n",
       "         0.        ,  0.        ,  0.        ,  0.        ,  0.        ,\n",
       "         0.        ,  0.        ,  0.        ,  0.        ,  0.        ,\n",
       "         0.        ,  0.        ,  0.        ,  0.        ,  0.        ,\n",
       "         0.        ,  0.        ,  0.        ,  0.        ,  0.        ,\n",
       "         0.        ,  0.        ,  1.        ,  0.        ,  0.        ,\n",
       "         0.        ,  0.        ,  0.        ,  0.        ,  0.        ]])"
      ]
     },
     "execution_count": 48,
     "metadata": {},
     "output_type": "execute_result"
    }
   ],
   "source": [
    "test_X"
   ]
  },
  {
   "cell_type": "code",
   "execution_count": 49,
   "id": "e344aed6",
   "metadata": {},
   "outputs": [
    {
     "data": {
      "text/plain": [
       "array([1.])"
      ]
     },
     "execution_count": 49,
     "metadata": {},
     "output_type": "execute_result"
    }
   ],
   "source": [
    "predict(test_X, W)"
   ]
  },
  {
   "cell_type": "code",
   "execution_count": 50,
   "id": "a399c224",
   "metadata": {},
   "outputs": [
    {
     "data": {
      "text/plain": [
       "array([-6.68968184, -5.56132174, -0.40383115,  7.26757449,  2.36943525,\n",
       "        6.27389416, -0.44439514,  8.04008903,  7.23322602,  4.90223302,\n",
       "        2.08128258,  1.35131305,  1.65834752,  2.11558545,  5.18507213,\n",
       "        8.        , 10.00862237,  7.03006641,  2.34999145,  4.        ,\n",
       "        4.09701142, 10.0002396 ,  7.97086328,  3.68646592,  7.02709416,\n",
       "        9.66058403,  8.5637101 ,  6.89623408,  1.        ,  4.        ,\n",
       "        7.73012332,  5.2803145 ,  8.9675729 ,  4.25652928,  5.43725764,\n",
       "        6.51684763,  3.96588004,  5.10680667,  4.82666187,  9.89952125,\n",
       "        8.80441096,  2.8572665 ,  7.01765586,  6.08187981,  6.38834633,\n",
       "        4.50866562,  5.06084335,  4.50246023,  9.92722662,  7.37077964,\n",
       "        1.0173342 ,  4.        ,  5.09651003,  3.50292125,  3.89561984])"
      ]
     },
     "execution_count": 50,
     "metadata": {},
     "output_type": "execute_result"
    }
   ],
   "source": [
    "W2"
   ]
  },
  {
   "cell_type": "code",
   "execution_count": 51,
   "id": "4e9094f8",
   "metadata": {},
   "outputs": [
    {
     "data": {
      "text/plain": [
       "2429    1\n",
       "Name: Cover_Type, dtype: int64"
      ]
     },
     "execution_count": 51,
     "metadata": {},
     "output_type": "execute_result"
    }
   ],
   "source": [
    "data[2429:2430].Cover_Type"
   ]
  },
  {
   "cell_type": "code",
   "execution_count": 52,
   "id": "2655df03",
   "metadata": {},
   "outputs": [],
   "source": [
    "def accurracy_score(data, W):\n",
    "    predictions = predict(X, W2)\n",
    "    actual = data.Cover_Type.values\n",
    "    true_predictions = np.sum(predictions==actual)\n",
    "    \n",
    "    \n",
    "            \n",
    "    score = true_predictions/len(data)\n",
    "    \n",
    "    return score"
   ]
  },
  {
   "cell_type": "code",
   "execution_count": 53,
   "id": "21cb9154",
   "metadata": {},
   "outputs": [
    {
     "data": {
      "text/plain": [
       "array([1, 1, 1, ..., 1, 1, 1], dtype=int64)"
      ]
     },
     "execution_count": 53,
     "metadata": {},
     "output_type": "execute_result"
    }
   ],
   "source": [
    "data.Cover_Type.values"
   ]
  },
  {
   "cell_type": "code",
   "execution_count": 54,
   "id": "191c018d",
   "metadata": {},
   "outputs": [
    {
     "data": {
      "text/plain": [
       "0.6971145592871526"
      ]
     },
     "execution_count": 54,
     "metadata": {},
     "output_type": "execute_result"
    }
   ],
   "source": [
    "accurracy_score(data, W2)"
   ]
  },
  {
   "cell_type": "code",
   "execution_count": null,
   "id": "90ea9724",
   "metadata": {},
   "outputs": [],
   "source": []
  }
 ],
 "metadata": {
  "kernelspec": {
   "display_name": "Python 3 (ipykernel)",
   "language": "python",
   "name": "python3"
  },
  "language_info": {
   "codemirror_mode": {
    "name": "ipython",
    "version": 3
   },
   "file_extension": ".py",
   "mimetype": "text/x-python",
   "name": "python",
   "nbconvert_exporter": "python",
   "pygments_lexer": "ipython3",
   "version": "3.9.12"
  }
 },
 "nbformat": 4,
 "nbformat_minor": 5
}
